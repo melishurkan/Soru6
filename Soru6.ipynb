{
  "nbformat": 4,
  "nbformat_minor": 0,
  "metadata": {
    "colab": {
      "provenance": [],
      "authorship_tag": "ABX9TyMJy03dWWYoWScpbH1YRpBQ",
      "include_colab_link": true
    },
    "kernelspec": {
      "name": "python3",
      "display_name": "Python 3"
    },
    "language_info": {
      "name": "python"
    }
  },
  "cells": [
    {
      "cell_type": "markdown",
      "metadata": {
        "id": "view-in-github",
        "colab_type": "text"
      },
      "source": [
        "<a href=\"https://colab.research.google.com/github/melishurkan/Soru6/blob/main/Soru6.ipynb\" target=\"_parent\"><img src=\"https://colab.research.google.com/assets/colab-badge.svg\" alt=\"Open In Colab\"/></a>"
      ]
    },
    {
      "cell_type": "code",
      "execution_count": 17,
      "metadata": {
        "colab": {
          "base_uri": "https://localhost:8080/",
          "height": 760
        },
        "id": "JbpstJXaus9c",
        "outputId": "f8034beb-7d89-4613-f154-4797a0c3902e"
      },
      "outputs": [
        {
          "output_type": "stream",
          "name": "stdout",
          "text": [
            "Epoch 0 | Train Loss: 0.48716 | Val Loss: 0.41180\n",
            "Epoch 1 | Train Loss: 0.22081 | Val Loss: 0.19686\n",
            "Epoch 2 | Train Loss: 0.15801 | Val Loss: 0.15695\n",
            "Epoch 3 | Train Loss: 0.17003 | Val Loss: 0.17312\n",
            "Epoch 4 | Train Loss: 0.20052 | Val Loss: 0.21356\n",
            "Epoch 5 | Train Loss: 0.17138 | Val Loss: 0.18364\n",
            "Epoch 6 | Train Loss: 0.15913 | Val Loss: 0.17646\n",
            "Epoch 7 | Train Loss: 0.11589 | Val Loss: 0.14034\n",
            "Epoch 8 | Train Loss: 0.10647 | Val Loss: 0.14254\n",
            "Epoch 9 | Train Loss: 0.09220 | Val Loss: 0.15164\n",
            "Epoch 10 | Train Loss: 0.07498 | Val Loss: 0.15306\n",
            "Test Loss: 0.14210 | Test Acc: 0.95466\n"
          ]
        },
        {
          "output_type": "display_data",
          "data": {
            "text/plain": [
              "<Figure size 640x480 with 1 Axes>"
            ],
            "image/png": "[encoded data removed]"
          },
          "metadata": {}
        },
        {
          "output_type": "stream",
          "name": "stdout",
          "text": [
            "Train:\n",
            "F1 Score: 0.97115 | Accuracy: 0.97125 | Recall: 0.98217 | Precision: 0.96038\n",
            "Test:\n",
            "F1 Score: 0.95460 | Accuracy: 0.95466 | Recall: 0.94845 | Precision: 0.96084\n",
            "Val:\n",
            "F1 Score: 0.94704 | Accuracy: 0.94586 | Recall: 0.97436 | Precision: 0.92121\n",
            "Çalışma zamanı : 0.9713344573974609 saniye\n"
          ]
        }
      ],
      "source": [
        "import torch\n",
        "import torch.nn as nn\n",
        "import torch.optim as optim\n",
        "import pandas as pd\n",
        "import matplotlib.pyplot as plt\n",
        "import time\n",
        "\n",
        "baslangic_zamani = time.time()\n",
        "\n",
        "train_data = pd.read_csv(\"sample_data/cure_the_princess_train.csv\")\n",
        "test_data = pd.read_csv(\"sample_data/cure_the_princess_test.csv\")\n",
        "val_data = pd.read_csv(\"sample_data/cure_the_princess_validation.csv\")\n",
        "\n",
        "train_inputs = torch.tensor(train_data.drop(\"Cured\", axis=1).values, dtype=torch.float32)\n",
        "train_targets = torch.tensor(train_data[\"Cured\"].values, dtype=torch.float32)\n",
        "test_inputs = torch.tensor(test_data.drop(\"Cured\", axis=1).values, dtype=torch.float32)\n",
        "test_targets = torch.tensor(test_data[\"Cured\"].values, dtype=torch.float32)\n",
        "val_inputs = torch.tensor(val_data.drop(\"Cured\", axis=1).values, dtype=torch.float32)\n",
        "val_targets = torch.tensor(val_data[\"Cured\"].values, dtype=torch.float32)\n",
        "\n",
        "\n",
        "class MLP(nn.Module):\n",
        "    def __init__(self):\n",
        "        super().__init__()\n",
        "        self.hidden1 = nn.Linear(13, 100)\n",
        "        self.hidden2 = nn.Linear(100, 50)\n",
        "        self.out = nn.Linear(50, 1)\n",
        "\n",
        "    def forward(self, x):\n",
        "        x = torch.relu(self.hidden1(x))\n",
        "        x = torch.relu(self.hidden2(x))\n",
        "        x = torch.sigmoid(self.out(x))\n",
        "        return x\n",
        "\n",
        "\n",
        "model = MLP()\n",
        "\n",
        "lambda_l1 = 0.001 \n",
        "optimizer = optim.SGD(model.parameters(), lr=0.01, weight_decay=lambda_l1, momentum=0.8) \n",
        "criterion = nn.BCELoss()\n",
        "torch.manual_seed(190401079)\n",
        "\n",
        "\n",
        "train_losses, val_losses = [], []\n",
        "num_epochs = 1000\n",
        "batch_size = 16\n",
        "\n",
        "for epoch in range(num_epochs):\n",
        "    for i in range(0, len(train_inputs), batch_size):\n",
        "        batch_inputs = train_inputs[i:i + batch_size]\n",
        "        batch_targets = train_targets[i:i + batch_size]\n",
        "\n",
        "        optimizer.zero_grad()\n",
        "        outputs = model(batch_inputs).squeeze()\n",
        "        loss = criterion(outputs, batch_targets)\n",
        "        loss.backward()\n",
        "        optimizer.step()\n",
        "\n",
        "    with torch.no_grad():\n",
        "        train_outputs = model(train_inputs).squeeze()\n",
        "        train_loss = criterion(train_outputs, train_targets)\n",
        "        train_losses.append(train_loss.item())\n",
        "\n",
        "        val_outputs = model(val_inputs).squeeze()\n",
        "        val_loss = criterion(val_outputs, val_targets)\n",
        "        val_losses.append(val_loss.item())\n",
        "\n",
        "        train_predictions = (model(train_inputs) > 0.5).float()\n",
        "        test_predictions = (model(test_inputs) > 0.5).float()\n",
        "        val_predictions = (model(val_inputs) > 0.5).float()\n",
        "\n",
        "    if epoch > 10 and val_losses[-1] > val_losses[-3]:\n",
        "        break\n",
        "\n",
        "    if epoch % 1 == 0:\n",
        "        print(f\"Epoch {epoch} | Train Loss: {train_loss:.5f} | Val Loss: {val_loss:.5f}\")\n",
        "\n",
        "test_outputs = model(test_inputs).squeeze()\n",
        "test_loss = criterion(test_outputs, test_targets)\n",
        "test_acc = ((test_outputs > 0.5).float() == test_targets).float().mean()\n",
        "\n",
        "print(f\"Test Loss: {test_loss:.5f} | Test Acc: {test_acc:.5f}\")\n",
        "\n",
        "plt.plot(train_losses, label=\"Train Loss\")\n",
        "plt.plot(val_losses, label=\"Val Loss\")\n",
        "plt.legend()\n",
        "plt.show()\n",
        "#5.3\n",
        "\n",
        "from sklearn.metrics import f1_score, accuracy_score, recall_score, precision_score\n",
        "\n",
        "train_f1 = f1_score(train_targets, train_predictions)\n",
        "train_acc = accuracy_score(train_targets, train_predictions)\n",
        "train_recall = recall_score(train_targets, train_predictions)\n",
        "train_precision = precision_score(train_targets, train_predictions)\n",
        "\n",
        "test_f1 = f1_score(test_targets, test_predictions)\n",
        "test_acc = accuracy_score(test_targets, test_predictions)\n",
        "test_recall = recall_score(test_targets, test_predictions)\n",
        "test_precision = precision_score(test_targets, test_predictions)\n",
        "\n",
        "val_f1 = f1_score(val_targets, val_predictions)\n",
        "val_acc = accuracy_score(val_targets, val_predictions)\n",
        "val_recall = recall_score(val_targets, val_predictions)\n",
        "val_precision = precision_score(val_targets, val_predictions)\n",
        "\n",
        "\n",
        "print(\"Train:\")\n",
        "print(f\"F1 Score: {train_f1:.5f} | Accuracy: {train_acc:.5f} | Recall: {train_recall:.5f} | Precision: {train_precision:.5f}\")\n",
        "print(\"Test:\")\n",
        "print(f\"F1 Score: {test_f1:.5f} | Accuracy: {test_acc:.5f} | Recall: {test_recall:.5f} | Precision: {test_precision:.5f}\")\n",
        "print(\"Val:\")\n",
        "print(f\"F1 Score: {val_f1:.5f} | Accuracy: {val_acc:.5f} | Recall: {val_recall:.5f} | Precision: {val_precision:.5f}\")\n",
        "son_zaman=time.time()\n",
        "toplam_zaman=son_zaman-baslangic_zamani\n",
        "print(\"Çalışma zamanı :\",toplam_zaman,\"saniye\")\n"
      ]
    }
  ]
}